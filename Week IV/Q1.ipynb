{
 "cells": [
  {
   "cell_type": "markdown",
   "metadata": {},
   "source": []
  },
  {
   "cell_type": "markdown",
   "metadata": {},
   "source": [
    "# Handling the ciphertext\n",
    "\n",
    "## Input\n"
   ]
  },
  {
   "cell_type": "code",
   "execution_count": 1,
   "metadata": {},
   "outputs": [
    {
     "name": "stdout",
     "output_type": "stream",
     "text": [
      "20814804c1767293b99f1d9cab3bc3e7\n",
      "ac1e37bfb15599e5f40eef805488281d\n"
     ]
    }
   ],
   "source": [
    "ciphertext = \"20814804c1767293b99f1d9cab3bc3e7 ac1e37bfb15599e5f40eef805488281d\".split(' ')\n",
    "print(ciphertext[0])\n",
    "print(ciphertext[1])"
   ]
  },
  {
   "cell_type": "markdown",
   "metadata": {},
   "source": [
    "## Decode Hex --> ASCII\n"
   ]
  },
  {
   "cell_type": "code",
   "execution_count": 2,
   "metadata": {},
   "outputs": [
    {
     "name": "stdout",
     "output_type": "stream",
     "text": [
      "b' \\x81H\\x04\\xc1vr\\x93\\xb9\\x9f\\x1d\\x9c\\xab;\\xc3\\xe7'\n",
      "b'\\xac\\x1e7\\xbf\\xb1U\\x99\\xe5\\xf4\\x0e\\xef\\x80T\\x88(\\x1d'\n"
     ]
    }
   ],
   "source": [
    "ciphertextIV = bytes.fromhex(ciphertext[0])\n",
    "ciphertextC0 = bytes.fromhex(ciphertext[1])\n",
    "print(ciphertextIV)\n",
    "print(ciphertextC0)"
   ]
  },
  {
   "cell_type": "markdown",
   "metadata": {},
   "source": [
    "## Plaintext"
   ]
  },
  {
   "cell_type": "code",
   "execution_count": 3,
   "metadata": {},
   "outputs": [
    {
     "name": "stdout",
     "output_type": "stream",
     "text": [
      "Pay Bob 100$\n",
      "Pay Bob 500$\n"
     ]
    }
   ],
   "source": [
    "plainText = \"Pay Bob 100$\"\n",
    "plainTextTarget = \"Pay Bob 500$\"\n",
    "print(plainText)\n",
    "print(plainTextTarget)"
   ]
  },
  {
   "cell_type": "markdown",
   "metadata": {},
   "source": [
    "## Padding\n"
   ]
  },
  {
   "cell_type": "code",
   "execution_count": 4,
   "metadata": {},
   "outputs": [
    {
     "name": "stdout",
     "output_type": "stream",
     "text": [
      "---- Current ----\n",
      "Cipher Text : 16\n",
      "Plain  Text : 12\n",
      "Need to Pad : 4\n",
      "4444\n"
     ]
    }
   ],
   "source": [
    "print(\"---- Current ----\")\n",
    "print(\"Cipher Text : \" + str(len(ciphertextC0)))\n",
    "print(\"Plain  Text : \" + str(len(plainText)))\n",
    "paddingNum1 = str(len(ciphertextC0) - len(plainText))\n",
    "\n",
    "print(\"Need to Pad : \" + str(paddingNum1))\n",
    "padding1 = \"\".join([paddingNum1] * int(paddingNum1))\n",
    "print(padding1)"
   ]
  },
  {
   "cell_type": "code",
   "execution_count": 6,
   "metadata": {},
   "outputs": [
    {
     "name": "stdout",
     "output_type": "stream",
     "text": [
      "---- Target ----\n",
      "Cihper Text :16\n",
      "Plain  Text :12\n",
      "Need to Pad :4\n",
      "4444\n"
     ]
    }
   ],
   "source": [
    "print(\"---- Target ----\")\n",
    "print(\"Cihper Text :\" + str(len(ciphertextC0)))\n",
    "print(\"Plain  Text :\" + str(len(plainTextTarget)))\n",
    "\n",
    "paddingNum2 = str(len(ciphertextC0) - len(plainTextTarget))\n",
    "print(\"Need to Pad :\" + str(paddingNum2))\n",
    "\n",
    "padding2 = \"\".join([paddingNum2] * int(paddingNum2))\n",
    "print(padding2)"
   ]
  },
  {
   "cell_type": "code",
   "execution_count": 7,
   "metadata": {},
   "outputs": [
    {
     "name": "stdout",
     "output_type": "stream",
     "text": [
      "Plain Text   (pad) : Pay Bob 100$44444444\n",
      "Plain Target (pad) : Pay Bob 500$4444\n"
     ]
    }
   ],
   "source": [
    "plainText += padding1\n",
    "plainTextTarget += padding2\n",
    "print( \"Plain Text   (pad) : \" + plainText)\n",
    "print(\"Plain Target (pad) : \" + plainTextTarget)"
   ]
  },
  {
   "cell_type": "markdown",
   "metadata": {},
   "source": [
    "## XOR two strings of different lengths"
   ]
  },
  {
   "cell_type": "code",
   "execution_count": 10,
   "metadata": {},
   "outputs": [],
   "source": [
    "def bytesxor(a, b):   \n",
    "    for (x, y) in zip(a[:len(b)], b):\n",
    "        print(\"X: \", x, \"Y: \", y)\n",
    "    '''      \n",
    "    if len(a) > len(b):\n",
    "        return \"\".join([x ^ y for (x, y) in zip(a[:len(b)], b)])\n",
    "    else:\n",
    "        return \"\".join([x ^ y for (x, y) in zip(a, b[:len(a)])])\n",
    "    '''"
   ]
  },
  {
   "cell_type": "code",
   "execution_count": 11,
   "metadata": {},
   "outputs": [
    {
     "name": "stdout",
     "output_type": "stream",
     "text": [
      "X:  P Y:  P\n",
      "X:  a Y:  a\n",
      "X:  y Y:  y\n",
      "X:    Y:   \n",
      "X:  B Y:  B\n",
      "X:  o Y:  o\n",
      "X:  b Y:  b\n",
      "X:    Y:   \n",
      "X:  1 Y:  5\n",
      "X:  0 Y:  0\n",
      "X:  0 Y:  0\n",
      "X:  $ Y:  $\n",
      "X:  4 Y:  4\n",
      "X:  4 Y:  4\n",
      "X:  4 Y:  4\n",
      "X:  4 Y:  4\n"
     ]
    },
    {
     "ename": "TypeError",
     "evalue": "'NoneType' object is not subscriptable",
     "output_type": "error",
     "traceback": [
      "\u001b[1;31m---------------------------------------------------------------------------\u001b[0m",
      "\u001b[1;31mTypeError\u001b[0m                                 Traceback (most recent call last)",
      "Cell \u001b[1;32mIn[11], line 2\u001b[0m\n\u001b[0;32m      1\u001b[0m xorredPlainText \u001b[38;5;241m=\u001b[39m bytesxor(plainText, plainTextTarget)\n\u001b[1;32m----> 2\u001b[0m newIV \u001b[38;5;241m=\u001b[39m \u001b[43mbytesxor\u001b[49m\u001b[43m(\u001b[49m\u001b[43mxorredPlainText\u001b[49m\u001b[43m,\u001b[49m\u001b[43m \u001b[49m\u001b[43mciphertextIV\u001b[49m\u001b[43m)\u001b[49m\n",
      "Cell \u001b[1;32mIn[10], line 2\u001b[0m, in \u001b[0;36mbytesxor\u001b[1;34m(a, b)\u001b[0m\n\u001b[0;32m      1\u001b[0m \u001b[38;5;28;01mdef\u001b[39;00m \u001b[38;5;21mbytesxor\u001b[39m(a, b):   \n\u001b[1;32m----> 2\u001b[0m     \u001b[38;5;28;01mfor\u001b[39;00m (x, y) \u001b[38;5;129;01min\u001b[39;00m \u001b[38;5;28mzip\u001b[39m(\u001b[43ma\u001b[49m\u001b[43m[\u001b[49m\u001b[43m:\u001b[49m\u001b[38;5;28;43mlen\u001b[39;49m\u001b[43m(\u001b[49m\u001b[43mb\u001b[49m\u001b[43m)\u001b[49m\u001b[43m]\u001b[49m, b):\n\u001b[0;32m      3\u001b[0m         \u001b[38;5;28mprint\u001b[39m(\u001b[38;5;124m\"\u001b[39m\u001b[38;5;124mX: \u001b[39m\u001b[38;5;124m\"\u001b[39m, x, \u001b[38;5;124m\"\u001b[39m\u001b[38;5;124mY: \u001b[39m\u001b[38;5;124m\"\u001b[39m, y)\n\u001b[0;32m      4\u001b[0m \u001b[38;5;250m    \u001b[39m\u001b[38;5;124;03m'''      \u001b[39;00m\n\u001b[0;32m      5\u001b[0m \u001b[38;5;124;03m    if len(a) > len(b):\u001b[39;00m\n\u001b[0;32m      6\u001b[0m \u001b[38;5;124;03m        return \"\".join([x ^ y for (x, y) in zip(a[:len(b)], b)])\u001b[39;00m\n\u001b[0;32m      7\u001b[0m \u001b[38;5;124;03m    else:\u001b[39;00m\n\u001b[0;32m      8\u001b[0m \u001b[38;5;124;03m        return \"\".join([x ^ y for (x, y) in zip(a, b[:len(a)])])\u001b[39;00m\n\u001b[0;32m      9\u001b[0m \u001b[38;5;124;03m    '''\u001b[39;00m\n",
      "\u001b[1;31mTypeError\u001b[0m: 'NoneType' object is not subscriptable"
     ]
    }
   ],
   "source": [
    "xorredPlainText = bytesxor(plainText, plainTextTarget)\n",
    "newIV = bytesxor(xorredPlainText, ciphertextIV)\n"
   ]
  },
  {
   "cell_type": "code",
   "execution_count": 23,
   "metadata": {},
   "outputs": [
    {
     "name": "stdout",
     "output_type": "stream",
     "text": [
      "New CBC\n",
      " 32303831343830346731373637323933 ac1e37bfb15599e5f40eef805488281d\n"
     ]
    }
   ],
   "source": [
    "print(\"New CBC\\n\",newIV.hex(), ciphertext[1])"
   ]
  },
  {
   "cell_type": "code",
   "execution_count": null,
   "metadata": {},
   "outputs": [],
   "source": []
  }
 ],
 "metadata": {
  "kernelspec": {
   "display_name": "Python 3",
   "language": "python",
   "name": "python3"
  },
  "language_info": {
   "codemirror_mode": {
    "name": "ipython",
    "version": 3
   },
   "file_extension": ".py",
   "mimetype": "text/x-python",
   "name": "python",
   "nbconvert_exporter": "python",
   "pygments_lexer": "ipython3",
   "version": "3.10.0"
  }
 },
 "nbformat": 4,
 "nbformat_minor": 2
}
